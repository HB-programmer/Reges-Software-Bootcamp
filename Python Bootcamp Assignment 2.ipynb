{
 "cells": [
  {
   "cell_type": "markdown",
   "id": "54df491f",
   "metadata": {},
   "source": [
    "## ASSIGNMENT 2\n",
    "## NMAE- HARSHIT BHARDWAJ"
   ]
  },
  {
   "cell_type": "markdown",
   "id": "0d071eb0",
   "metadata": {},
   "source": [
    "## Q1 You need to take two input as number from the user and find out the Greatest Common Divisor of those two number and save it in a C drive with the file name as gcd_data.txt"
   ]
  },
  {
   "cell_type": "code",
   "execution_count": 1,
   "id": "04229212",
   "metadata": {},
   "outputs": [
    {
     "name": "stdout",
     "output_type": "stream",
     "text": [
      "Enter First integer Number: 74\n",
      "Enter Second integer Number: 15\n"
     ]
    }
   ],
   "source": [
    "def find_gcd(first_no,second_no):\n",
    "    if first_no==0 or second_no==0:\n",
    "        return 0\n",
    "    if first_no==second_no:\n",
    "        return first_no\n",
    "    if first_no < second_no:\n",
    "        smallest_no = first_no\n",
    "    else:\n",
    "        smallest_no = second_no\n",
    "    i = smallest_no\n",
    "    while i <= smallest_no:\n",
    "        if (first_no%i==0) and (second_no%i==0):\n",
    "            gcd = i\n",
    "            break\n",
    "        else:\n",
    "            i = i-1\n",
    "    return gcd\n",
    "\n",
    "first_no = int(input(\"Enter First integer Number: \"))\n",
    "second_no = int(input(\"Enter Second integer Number: \"))\n",
    "gcd_no = find_gcd(first_no,second_no)\n",
    "\n",
    "file = open(\"GCD_Data.txt\",'a')\n",
    "file.write(f\"The Greatest Common Number of {first_no} and {second_no} is : {gcd_no}\")\n",
    "file.close()"
   ]
  },
  {
   "cell_type": "code",
   "execution_count": 2,
   "id": "9acc8443",
   "metadata": {},
   "outputs": [
    {
     "name": "stdout",
     "output_type": "stream",
     "text": [
      "The Greatest Common Number of 12 and 8 is : 4The Greatest Common Number of 74 and 15 is : 1\n"
     ]
    }
   ],
   "source": [
    "file = open(\"GCD_Data.txt\",'r')\n",
    "print(file.read())\n",
    "file.close()"
   ]
  },
  {
   "cell_type": "markdown",
   "id": "45e9f23e",
   "metadata": {},
   "source": [
    "## Q:2 Open a file in a read & write format make sure you make the write process from the byte position of your pointer from 15- \n",
    "## validate that by going through the file again"
   ]
  },
  {
   "cell_type": "code",
   "execution_count": 3,
   "id": "e31dbb9d",
   "metadata": {},
   "outputs": [
    {
     "name": "stdout",
     "output_type": "stream",
     "text": [
      "15\n"
     ]
    }
   ],
   "source": [
    "file = open(\"Question_2.txt\",\"r+\")\n",
    "file.write(\"Hello india!! \\nThis is just a text file for testing\")\n",
    "file.seek(15,0)\n",
    "print(file.tell())\n",
    "file.close()"
   ]
  },
  {
   "cell_type": "markdown",
   "id": "97a7fe72",
   "metadata": {},
   "source": [
    "## Q:3 You need a create a function which will check the validation of user password\n",
    "## - Conditions are\n",
    "## - password should have at least 1 capital letter\n",
    "## - 1 smaller letter\n",
    "## - Any special character only like\n",
    "## - Length of the password should be minimum 6 character & maximum 15 character\n",
    "## - Print a suitable message in case all the conditions are true other any other message"
   ]
  },
  {
   "cell_type": "code",
   "execution_count": 4,
   "id": "3b68bfab",
   "metadata": {},
   "outputs": [],
   "source": [
    "def pass_check(string):\n",
    "    count = 0\n",
    "    ## checking at least one capital letter\n",
    "    ascii_value = [ord(ch) for ch in string]\n",
    "    for i in range(65,91,1):\n",
    "        if i in ascii_value:\n",
    "            count += 1\n",
    "            break\n",
    "            \n",
    "    ## checking a small letter\n",
    "    for i in range(97,122,1):\n",
    "        if i in ascii_value:\n",
    "            count += 1\n",
    "            break\n",
    "    \n",
    "    ## Any special characters like\n",
    "    spe_ch_lst = [\"!\",\"@\",\"#\",\"$\",\"%\",\"^\"]\n",
    "    for i in string:\n",
    "        if i in spe_ch_lst:\n",
    "            count += 1\n",
    "            break\n",
    "            \n",
    "    ## checking length of password\n",
    "    min_len = 6\n",
    "    max_len = 15\n",
    "    if (len(string)>= min_len) and (len(string)<=max_len):\n",
    "        count += 1\n",
    "    else:\n",
    "        print(\"Your password is not of correct length\")\n",
    "    \n",
    "    if count == 4:\n",
    "        print(f\"Your password {string} is correct\")\n",
    "    else:\n",
    "        print(\"You password doesnot fullfill our requirements!!\\nTry again\")"
   ]
  },
  {
   "cell_type": "code",
   "execution_count": 5,
   "id": "9274daa0",
   "metadata": {},
   "outputs": [
    {
     "name": "stdout",
     "output_type": "stream",
     "text": [
      "Enter your passwrod: Abc@#123\n",
      "Your password Abc@#123 is correct\n"
     ]
    }
   ],
   "source": [
    "string = input(\"Enter your passwrod: \")\n",
    "pass_check(string)"
   ]
  },
  {
   "cell_type": "markdown",
   "id": "84790350",
   "metadata": {},
   "source": [
    "## Q4. Write a Python Program to generate 26 text files named A.txt, B.txt and so on up to Z.txt"
   ]
  },
  {
   "cell_type": "code",
   "execution_count": 6,
   "id": "d09d6091",
   "metadata": {},
   "outputs": [],
   "source": [
    "import string\n",
    "alphabets = string.ascii_uppercase\n",
    "alphabets_list = list(alphabets)\n",
    "# print(alphabets_list)"
   ]
  },
  {
   "cell_type": "code",
   "execution_count": 7,
   "id": "778919bf",
   "metadata": {},
   "outputs": [],
   "source": [
    "for letter in alphabets_list:\n",
    "    with open(letter+\".txt\",\"w\") as file:\n",
    "        file.write(letter)"
   ]
  },
  {
   "cell_type": "code",
   "execution_count": 8,
   "id": "7845a527",
   "metadata": {},
   "outputs": [
    {
     "name": "stdout",
     "output_type": "stream",
     "text": [
      "A\tB\tC\tD\tE\tF\tG\tH\tI\tJ\tK\tL\tM\tN\tO\tP\tQ\tR\tS\tT\tU\tV\tW\tX\tY\tZ\t"
     ]
    }
   ],
   "source": [
    "for letter in alphabets_list:\n",
    "    with open(letter+\".txt\",\"r\") as file:\n",
    "        print(file.read(), end=\"\\t\")"
   ]
  },
  {
   "cell_type": "markdown",
   "id": "926ed34b",
   "metadata": {},
   "source": [
    "## Q5. Write a Python program to combine each line from the first file with the corresponding line in the second file and save it into the Third file."
   ]
  },
  {
   "cell_type": "code",
   "execution_count": 13,
   "id": "b765d097",
   "metadata": {},
   "outputs": [],
   "source": [
    "file = open(\"New file.txt\",'r+')\n",
    "with open(\"GCD_Data.txt\") as f1, open(\"Question_2.txt\") as f2:\n",
    "    for l1, l2 in zip(f1,f2):\n",
    "        file.write(l1+l2)"
   ]
  },
  {
   "cell_type": "code",
   "execution_count": 14,
   "id": "cf3dfdee",
   "metadata": {},
   "outputs": [
    {
     "name": "stdout",
     "output_type": "stream",
     "text": [
      "\n"
     ]
    }
   ],
   "source": [
    "print(file.read())\n",
    "file.close()"
   ]
  },
  {
   "cell_type": "markdown",
   "id": "01dca60b",
   "metadata": {},
   "source": [
    "## Q6. You have to run your program at 12:00am, Date: 20th November, 2021 and wish your friend a “Happy Birthday” through your whatsApp.HINT\n",
    "##  You can use Datetime module or time module and web browser for the same\n",
    "##  Use of List\n",
    "##  Use of conditional statements and loops."
   ]
  },
  {
   "cell_type": "code",
   "execution_count": 20,
   "id": "4e0e05fe",
   "metadata": {},
   "outputs": [
    {
     "name": "stdout",
     "output_type": "stream",
     "text": [
      "Script Running\n"
     ]
    },
    {
     "ename": "KeyboardInterrupt",
     "evalue": "",
     "output_type": "error",
     "traceback": [
      "\u001b[1;31m---------------------------------------------------------------------------\u001b[0m",
      "\u001b[1;31mKeyboardInterrupt\u001b[0m                         Traceback (most recent call last)",
      "\u001b[1;32m<ipython-input-20-ed4ac396297c>\u001b[0m in \u001b[0;36m<module>\u001b[1;34m\u001b[0m\n\u001b[0;32m     49\u001b[0m         \u001b[1;31m# to get current date\u001b[0m\u001b[1;33m\u001b[0m\u001b[1;33m\u001b[0m\u001b[1;33m\u001b[0m\u001b[0m\n\u001b[0;32m     50\u001b[0m         \u001b[0mdatt\u001b[0m \u001b[1;33m=\u001b[0m \u001b[0mdatetime\u001b[0m\u001b[1;33m.\u001b[0m\u001b[0mdatetime\u001b[0m\u001b[1;33m.\u001b[0m\u001b[0mnow\u001b[0m\u001b[1;33m(\u001b[0m\u001b[1;33m)\u001b[0m\u001b[1;33m\u001b[0m\u001b[1;33m\u001b[0m\u001b[0m\n\u001b[1;32m---> 51\u001b[1;33m         \u001b[0mnamev\u001b[0m \u001b[1;33m=\u001b[0m \u001b[0mgetJsonData\u001b[0m\u001b[1;33m(\u001b[0m\u001b[0mdata_file\u001b[0m\u001b[1;33m,\u001b[0m \u001b[1;34m\"name\"\u001b[0m\u001b[1;33m,\u001b[0m \u001b[1;34m\"birth_month\"\u001b[0m\u001b[1;33m,\u001b[0m \u001b[1;34m\"birth_date\"\u001b[0m\u001b[1;33m,\u001b[0m\u001b[0mstr\u001b[0m\u001b[1;33m(\u001b[0m\u001b[0mdatt\u001b[0m\u001b[1;33m.\u001b[0m\u001b[0mmonth\u001b[0m\u001b[1;33m)\u001b[0m\u001b[1;33m,\u001b[0m \u001b[0mstr\u001b[0m\u001b[1;33m(\u001b[0m\u001b[0mdatt\u001b[0m\u001b[1;33m.\u001b[0m\u001b[0mday\u001b[0m\u001b[1;33m)\u001b[0m\u001b[1;33m)\u001b[0m\u001b[1;33m\u001b[0m\u001b[1;33m\u001b[0m\u001b[0m\n\u001b[0m\u001b[0;32m     52\u001b[0m \u001b[1;33m\u001b[0m\u001b[0m\n\u001b[0;32m     53\u001b[0m     \u001b[1;32mexcept\u001b[0m \u001b[0mjson\u001b[0m\u001b[1;33m.\u001b[0m\u001b[0mdecoder\u001b[0m\u001b[1;33m.\u001b[0m\u001b[0mJSONDecodeError\u001b[0m\u001b[1;33m:\u001b[0m\u001b[1;33m\u001b[0m\u001b[1;33m\u001b[0m\u001b[0m\n",
      "\u001b[1;32m<ipython-input-20-ed4ac396297c>\u001b[0m in \u001b[0;36mgetJsonData\u001b[1;34m(file, attr_ret, attr1, attr2, attr_val1, attr_val2)\u001b[0m\n\u001b[0;32m     24\u001b[0m \u001b[1;32mdef\u001b[0m \u001b[0mgetJsonData\u001b[0m\u001b[1;33m(\u001b[0m\u001b[0mfile\u001b[0m\u001b[1;33m,\u001b[0m \u001b[0mattr_ret\u001b[0m\u001b[1;33m,\u001b[0m \u001b[0mattr1\u001b[0m\u001b[1;33m,\u001b[0m \u001b[0mattr2\u001b[0m\u001b[1;33m,\u001b[0m \u001b[0mattr_val1\u001b[0m\u001b[1;33m,\u001b[0m \u001b[0mattr_val2\u001b[0m\u001b[1;33m)\u001b[0m\u001b[1;33m:\u001b[0m\u001b[1;33m\u001b[0m\u001b[1;33m\u001b[0m\u001b[0m\n\u001b[0;32m     25\u001b[0m     \u001b[1;31m# Load the file's data in 'data' variable\u001b[0m\u001b[1;33m\u001b[0m\u001b[1;33m\u001b[0m\u001b[1;33m\u001b[0m\u001b[0m\n\u001b[1;32m---> 26\u001b[1;33m     \u001b[0mdata\u001b[0m \u001b[1;33m=\u001b[0m \u001b[0mjson\u001b[0m\u001b[1;33m.\u001b[0m\u001b[0mload\u001b[0m\u001b[1;33m(\u001b[0m\u001b[0mfile\u001b[0m\u001b[1;33m)\u001b[0m\u001b[1;33m\u001b[0m\u001b[1;33m\u001b[0m\u001b[0m\n\u001b[0m\u001b[0;32m     27\u001b[0m     \u001b[0mretv\u001b[0m \u001b[1;33m=\u001b[0m\u001b[1;33m[\u001b[0m\u001b[1;33m]\u001b[0m\u001b[1;33m\u001b[0m\u001b[1;33m\u001b[0m\u001b[0m\n\u001b[0;32m     28\u001b[0m \u001b[1;33m\u001b[0m\u001b[0m\n",
      "\u001b[1;32mC:\\ProgramData\\Anaconda3\\lib\\json\\__init__.py\u001b[0m in \u001b[0;36mload\u001b[1;34m(fp, cls, object_hook, parse_float, parse_int, parse_constant, object_pairs_hook, **kw)\u001b[0m\n\u001b[0;32m    291\u001b[0m     \u001b[0mkwarg\u001b[0m\u001b[1;33m;\u001b[0m \u001b[0motherwise\u001b[0m\u001b[0;31m \u001b[0m\u001b[0;31m`\u001b[0m\u001b[0;31m`\u001b[0m\u001b[0mJSONDecoder\u001b[0m\u001b[0;31m`\u001b[0m\u001b[0;31m`\u001b[0m \u001b[1;32mis\u001b[0m \u001b[0mused\u001b[0m\u001b[1;33m.\u001b[0m\u001b[1;33m\u001b[0m\u001b[1;33m\u001b[0m\u001b[0m\n\u001b[0;32m    292\u001b[0m     \"\"\"\n\u001b[1;32m--> 293\u001b[1;33m     return loads(fp.read(),\n\u001b[0m\u001b[0;32m    294\u001b[0m         \u001b[0mcls\u001b[0m\u001b[1;33m=\u001b[0m\u001b[0mcls\u001b[0m\u001b[1;33m,\u001b[0m \u001b[0mobject_hook\u001b[0m\u001b[1;33m=\u001b[0m\u001b[0mobject_hook\u001b[0m\u001b[1;33m,\u001b[0m\u001b[1;33m\u001b[0m\u001b[1;33m\u001b[0m\u001b[0m\n\u001b[0;32m    295\u001b[0m         \u001b[0mparse_float\u001b[0m\u001b[1;33m=\u001b[0m\u001b[0mparse_float\u001b[0m\u001b[1;33m,\u001b[0m \u001b[0mparse_int\u001b[0m\u001b[1;33m=\u001b[0m\u001b[0mparse_int\u001b[0m\u001b[1;33m,\u001b[0m\u001b[1;33m\u001b[0m\u001b[1;33m\u001b[0m\u001b[0m\n",
      "\u001b[1;32mC:\\ProgramData\\Anaconda3\\lib\\encodings\\cp1252.py\u001b[0m in \u001b[0;36mdecode\u001b[1;34m(self, input, final)\u001b[0m\n\u001b[0;32m     20\u001b[0m \u001b[1;33m\u001b[0m\u001b[0m\n\u001b[0;32m     21\u001b[0m \u001b[1;32mclass\u001b[0m \u001b[0mIncrementalDecoder\u001b[0m\u001b[1;33m(\u001b[0m\u001b[0mcodecs\u001b[0m\u001b[1;33m.\u001b[0m\u001b[0mIncrementalDecoder\u001b[0m\u001b[1;33m)\u001b[0m\u001b[1;33m:\u001b[0m\u001b[1;33m\u001b[0m\u001b[1;33m\u001b[0m\u001b[0m\n\u001b[1;32m---> 22\u001b[1;33m     \u001b[1;32mdef\u001b[0m \u001b[0mdecode\u001b[0m\u001b[1;33m(\u001b[0m\u001b[0mself\u001b[0m\u001b[1;33m,\u001b[0m \u001b[0minput\u001b[0m\u001b[1;33m,\u001b[0m \u001b[0mfinal\u001b[0m\u001b[1;33m=\u001b[0m\u001b[1;32mFalse\u001b[0m\u001b[1;33m)\u001b[0m\u001b[1;33m:\u001b[0m\u001b[1;33m\u001b[0m\u001b[1;33m\u001b[0m\u001b[0m\n\u001b[0m\u001b[0;32m     23\u001b[0m         \u001b[1;32mreturn\u001b[0m \u001b[0mcodecs\u001b[0m\u001b[1;33m.\u001b[0m\u001b[0mcharmap_decode\u001b[0m\u001b[1;33m(\u001b[0m\u001b[0minput\u001b[0m\u001b[1;33m,\u001b[0m\u001b[0mself\u001b[0m\u001b[1;33m.\u001b[0m\u001b[0merrors\u001b[0m\u001b[1;33m,\u001b[0m\u001b[0mdecoding_table\u001b[0m\u001b[1;33m)\u001b[0m\u001b[1;33m[\u001b[0m\u001b[1;36m0\u001b[0m\u001b[1;33m]\u001b[0m\u001b[1;33m\u001b[0m\u001b[1;33m\u001b[0m\u001b[0m\n\u001b[0;32m     24\u001b[0m \u001b[1;33m\u001b[0m\u001b[0m\n",
      "\u001b[1;31mKeyboardInterrupt\u001b[0m: "
     ]
    }
   ],
   "source": [
    "# get current date in required format\n",
    "import datetime\n",
    "\n",
    "# store the birthdates of your contacts\n",
    "import json\n",
    "\n",
    "from selenium import webdriver\n",
    "\n",
    "# add a delay so that all elements of\n",
    "# the webpage are loaded before proceeding\n",
    "import time\n",
    "\n",
    "# Global variable Do not use elsewhere\n",
    "eleNM = None\n",
    "\n",
    "# This function is just to return a\n",
    "# string of the message required\n",
    "def wish_birth(name):\n",
    "    return \"Happy Birthday \" + name.split(\" \")[0] + \"!!\"\n",
    "\n",
    "# This function returns a list of values of some\n",
    "# attribute based on conditions on two attributes from the JSON file.\n",
    "# use to return names of contacts having their birthday on current date.\n",
    "def getJsonData(file, attr_ret, attr1, attr2, attr_val1, attr_val2):\n",
    "    # Load the file's data in 'data' variable\n",
    "    data = json.load(file)\n",
    "    retv =[]\n",
    "\n",
    "\t# If the attributes' value conditions are satisfied,\n",
    "\t# append the name into the list to be returned.\n",
    "    for i in data:\n",
    "        if(i[attr1]== attr_val1 and i[attr2]== attr_val2):\n",
    "            retv.append(i[attr_ret])\n",
    "    return retv\n",
    "\n",
    "# Opening the JSON file (birthdays.json) in read only mode.\n",
    "data_file = open(\"birthdays.json\", \"r\")\n",
    "namev =[]\n",
    "print(\"Script Running\")\n",
    "\n",
    "# This will keep rerunning the part of\n",
    "# the code from 'while True' to 'break'.\n",
    "# use to keep waiting for the JSON function\n",
    "# to return a non empty list.\n",
    "# In practice, this function will keep rerunning at\n",
    "# 11:59pm a day before the birthday and break out at 12:00am.\n",
    "while True:\n",
    "    try:\n",
    "        # to get current date\n",
    "        datt = datetime.datetime.now()\n",
    "        namev = getJsonData(data_file, \"name\", \"birth_month\", \"birth_date\",str(datt.month), str(datt.day))\n",
    "\n",
    "    except json.decoder.JSONDecodeError:\n",
    "        continue\n",
    "    if(namev !=[]):\n",
    "        break\n",
    "\n",
    "# ChromeOptions allows us use the userdata of chrome\n",
    "# so that you don't have to sign in manually everytime.\n",
    "chropt = webdriver.ChromeOptions()\n",
    "\n",
    "# adding userdata argument to ChromeOptions object\n",
    "chropt.add_argument(\"user-data-<LOCATION TO YOUR CHROME USER DATA>\")\n",
    "\n",
    "# Creating a Chrome webdriver object\n",
    "driver = webdriver.Chrome(executable_path =\"<LOCATION TO CHROME WEBDRIVER>\",options = chropt)\n",
    "driver.get(\"https://web.whatsapp.com/\")\n",
    "\n",
    "# delay added to give time for all elements to load\n",
    "time.sleep(10)\n",
    "\n",
    "print(namev)\n",
    "\n",
    "# Finds the chat of your contacts (as in the namev list)\n",
    "for inp in namev:\n",
    "    try:\n",
    "        eleNM = driver.find_element_by_xpath('//span[@title =\"{}\"]'.format(inp))\n",
    "    except Exception as ex:\n",
    "        print(ex)\n",
    "        continue\n",
    "\t# Simulates a mouse click on the element\n",
    "    eleNM.click()\n",
    "\n",
    "    while(True):\n",
    "        # Finds the chat box element\n",
    "        eleTF = driver.find_element_by_class_name(\"_13mgZ\")\n",
    "        # Writes the message(function call to wish_birth())\n",
    "        eleTF.send_keys(wish_birth(inp))\n",
    "        # Finds the Send button\n",
    "        eleSND = driver.find_element_by_class_name(\"_3M-N-\")\n",
    "        # Simulates a click on it\n",
    "        eleSND.click()\n",
    "        break\n"
   ]
  },
  {
   "cell_type": "code",
   "execution_count": null,
   "id": "25623966",
   "metadata": {},
   "outputs": [],
   "source": []
  },
  {
   "cell_type": "code",
   "execution_count": null,
   "id": "0cbf9c5f",
   "metadata": {},
   "outputs": [],
   "source": []
  }
 ],
 "metadata": {
  "kernelspec": {
   "display_name": "Python 3",
   "language": "python",
   "name": "python3"
  },
  "language_info": {
   "codemirror_mode": {
    "name": "ipython",
    "version": 3
   },
   "file_extension": ".py",
   "mimetype": "text/x-python",
   "name": "python",
   "nbconvert_exporter": "python",
   "pygments_lexer": "ipython3",
   "version": "3.8.8"
  }
 },
 "nbformat": 4,
 "nbformat_minor": 5
}
