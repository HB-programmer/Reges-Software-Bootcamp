{
 "cells": [
  {
   "cell_type": "markdown",
   "id": "dc5e5b83",
   "metadata": {},
   "source": [
    "# Task 1\n",
    "\n",
    "# Harshit Bhardwaj"
   ]
  },
  {
   "cell_type": "markdown",
   "id": "843805a1",
   "metadata": {},
   "source": [
    "##  Write code in python to print following patterns :-"
   ]
  },
  {
   "cell_type": "markdown",
   "id": "97406576",
   "metadata": {},
   "source": [
    "### Q:1"
   ]
  },
  {
   "cell_type": "code",
   "execution_count": 1,
   "id": "deb330a8",
   "metadata": {},
   "outputs": [
    {
     "name": "stdout",
     "output_type": "stream",
     "text": [
      "5 5 5 5 5 \n",
      "5 5 5 5 \n",
      "5 5 5 \n",
      "5 5 \n",
      "5 \n"
     ]
    }
   ],
   "source": [
    "for i in range(5):\n",
    "    print(\"5 \"*(5-i))"
   ]
  },
  {
   "cell_type": "markdown",
   "id": "47357ace",
   "metadata": {},
   "source": [
    "#### Q:2 "
   ]
  },
  {
   "cell_type": "code",
   "execution_count": 2,
   "id": "18fb9892",
   "metadata": {},
   "outputs": [
    {
     "name": "stdout",
     "output_type": "stream",
     "text": [
      "0\t1\t2\t3\t4\t5\t\n",
      "\n",
      "0\t1\t2\t3\t4\t\n",
      "\n",
      "0\t1\t2\t3\t\n",
      "\n",
      "0\t1\t2\t\n",
      "\n",
      "0\t1\t\n",
      "\n",
      "0\t\n",
      "\n"
     ]
    }
   ],
   "source": [
    "for i in range(6):\n",
    "    for j in range(6-i):\n",
    "        print(j,end='\\t')\n",
    "    print(\"\\n\")"
   ]
  },
  {
   "cell_type": "markdown",
   "id": "eddf583e",
   "metadata": {},
   "source": [
    "#### Q:3"
   ]
  },
  {
   "cell_type": "code",
   "execution_count": 3,
   "id": "34abf703",
   "metadata": {},
   "outputs": [
    {
     "name": "stdout",
     "output_type": "stream",
     "text": [
      "1\t\n",
      "\n",
      "3\t3\t\n",
      "\n",
      "5\t5\t5\t\n",
      "\n",
      "7\t7\t7\t7\t\n",
      "\n",
      "9\t9\t9\t9\t9\t\n",
      "\n"
     ]
    }
   ],
   "source": [
    "for i in range(1,6):\n",
    "    for j in range(i):\n",
    "        num = (i*2-1)\n",
    "        print(f\"{num}\", end='\\t')\n",
    "    print('\\n')"
   ]
  },
  {
   "cell_type": "markdown",
   "id": "4e73b24e",
   "metadata": {},
   "source": [
    "#### Q:4"
   ]
  },
  {
   "cell_type": "code",
   "execution_count": 4,
   "id": "8bb60b13",
   "metadata": {},
   "outputs": [
    {
     "name": "stdout",
     "output_type": "stream",
     "text": [
      "1\t\n",
      "\n",
      "2\t1\t\n",
      "\n",
      "3\t2\t1\t\n",
      "\n",
      "4\t3\t2\t1\t\n",
      "\n",
      "5\t4\t3\t2\t1\t\n",
      "\n"
     ]
    }
   ],
   "source": [
    "for i in range(1,6):\n",
    "    for j in range(i,0,-1):\n",
    "        print(j, end='\\t')\n",
    "    print(\"\\n\")"
   ]
  },
  {
   "cell_type": "markdown",
   "id": "2bd175c7",
   "metadata": {},
   "source": [
    "#### Q:5"
   ]
  },
  {
   "cell_type": "code",
   "execution_count": 5,
   "id": "2f7c11a5",
   "metadata": {},
   "outputs": [
    {
     "name": "stdout",
     "output_type": "stream",
     "text": [
      "1\t\n",
      "\n",
      "3\t2\t\n",
      "\n",
      "6\t5\t4\t\n",
      "\n",
      "10\t9\t8\t7\t\n",
      "\n"
     ]
    }
   ],
   "source": [
    "i = 1\n",
    "j = 2\n",
    "temp = j\n",
    "for r in range(2,6):\n",
    "    for c in range(i,j):\n",
    "        temp = temp-1\n",
    "        print(temp, end='\\t')\n",
    "    i = j \n",
    "    j = i + r\n",
    "    temp = j\n",
    "    print(\"\\n\")"
   ]
  },
  {
   "cell_type": "markdown",
   "id": "944a72c0",
   "metadata": {},
   "source": [
    "#### Q:6"
   ]
  },
  {
   "cell_type": "code",
   "execution_count": 6,
   "id": "1d6fe39e",
   "metadata": {},
   "outputs": [
    {
     "name": "stdout",
     "output_type": "stream",
     "text": [
      "1\t\n",
      "\n",
      "1\t1\t\n",
      "\n",
      "1\t2\t1\t\n",
      "\n",
      "1\t3\t3\t1\t\n",
      "\n",
      "1\t4\t6\t4\t1\t\n",
      "\n",
      "1\t5\t10\t10\t5\t1\t\n",
      "\n",
      "1\t6\t15\t20\t15\t6\t1\t\n",
      "\n"
     ]
    }
   ],
   "source": [
    "total_rows = 7\n",
    "for i in range(total_rows):\n",
    "    for j in range(i+1):\n",
    "        temp = 1\n",
    "        if j > i-j:\n",
    "            j = i-j\n",
    "        for k in range(0,j):\n",
    "            temp = temp*(i-k)\n",
    "            temp = temp//(k+1)\n",
    "        print(temp,end='\\t')\n",
    "    print(\"\\n\")"
   ]
  },
  {
   "cell_type": "markdown",
   "id": "f38247c3",
   "metadata": {},
   "source": [
    "#### Q:7"
   ]
  },
  {
   "cell_type": "code",
   "execution_count": 7,
   "id": "102918c4",
   "metadata": {},
   "outputs": [
    {
     "name": "stdout",
     "output_type": "stream",
     "text": [
      "1\t2\t3\t4\t5\t\n",
      "\n",
      "2\t2\t3\t4\t5\t\n",
      "\n",
      "3\t3\t3\t4\t5\t\n",
      "\n",
      "4\t4\t4\t4\t5\t\n",
      "\n",
      "5\t5\t5\t5\t5\t\n",
      "\n"
     ]
    }
   ],
   "source": [
    "rows = 5\n",
    "columns = 5\n",
    "for i in range(1,rows+1):\n",
    "    for j in range(1,columns+1):\n",
    "        if i >= j:\n",
    "            temp = i\n",
    "        else:\n",
    "            temp = j\n",
    "        print(temp,end='\\t')\n",
    "    print(\"\\n\")"
   ]
  },
  {
   "cell_type": "markdown",
   "id": "6d73fd87",
   "metadata": {},
   "source": [
    "#### Q:8"
   ]
  },
  {
   "cell_type": "code",
   "execution_count": 8,
   "id": "1946c72a",
   "metadata": {},
   "outputs": [
    {
     "name": "stdout",
     "output_type": "stream",
     "text": [
      "1\t\n",
      "\n",
      "2\t4\t\n",
      "\n",
      "3\t6\t9\t\n",
      "\n",
      "4\t8\t12\t16\t\n",
      "\n",
      "5\t10\t15\t20\t25\t\n",
      "\n",
      "6\t12\t18\t24\t30\t36\t\n",
      "\n",
      "7\t14\t21\t28\t35\t42\t49\t\n",
      "\n",
      "8\t16\t24\t32\t40\t48\t56\t64\t\n",
      "\n"
     ]
    }
   ],
   "source": [
    "rows = 8\n",
    "columns = 8\n",
    "for i in range(1,rows+1):\n",
    "    for j in range(1,i+1):\n",
    "        print(i*j, end='\\t')\n",
    "    print('\\n')\n",
    "        "
   ]
  },
  {
   "cell_type": "markdown",
   "id": "30fef3bd",
   "metadata": {},
   "source": [
    "#### Q:9"
   ]
  },
  {
   "cell_type": "code",
   "execution_count": 9,
   "id": "31d20715",
   "metadata": {},
   "outputs": [
    {
     "name": "stdout",
     "output_type": "stream",
     "text": [
      "  * * * * * * * * * * * \n",
      "\n",
      "    * * * * * * * * * \n",
      "\n",
      "      * * * * * * * \n",
      "\n",
      "        * * * * * \n",
      "\n",
      "          * * * \n",
      "\n",
      "            * \n",
      "\n"
     ]
    }
   ],
   "source": [
    "rows = 6\n",
    "for i in range(rows):\n",
    "    for j in range(i+1):\n",
    "        print(\" \",end=' ')\n",
    "    for j in range(i,rows-1):\n",
    "        print(\"*\",end=' ')\n",
    "    for j in range(i,rows):\n",
    "        print(\"*\",end=\" \")\n",
    "    print(\"\\n\")"
   ]
  },
  {
   "cell_type": "markdown",
   "id": "d6d0cbeb",
   "metadata": {},
   "source": [
    "#### Q:10"
   ]
  },
  {
   "cell_type": "code",
   "execution_count": 10,
   "id": "853d93a4",
   "metadata": {},
   "outputs": [
    {
     "name": "stdout",
     "output_type": "stream",
     "text": [
      "                  *   \n",
      "                 *  *   \n",
      "                *  *  *   \n",
      "               *  *  *  *   \n",
      "              *  *  *  *  *   \n",
      "             *  *  *  *  *  *   \n",
      "            *  *  *  *  *  *  *   \n",
      "           *  *  *  *  *  *  *  *   \n",
      "          *  *  *  *  *  *  *  *  *   \n",
      "         *  *  *  *  *  *  *  *  *  *   \n"
     ]
    }
   ],
   "source": [
    "rows = 10\n",
    "spaces = (2 * rows) - 2  \n",
    "for i in range(0, rows):  \n",
    "    for j in range(0, spaces):  \n",
    "        print(end=\" \")  \n",
    "    spaces = spaces - 1   \n",
    "    for j in range(0, i + 1):   \n",
    "        print(\"* \", end=' ')  \n",
    "    print(\" \")  "
   ]
  },
  {
   "cell_type": "markdown",
   "id": "52d72927",
   "metadata": {},
   "source": [
    "#### Q:11"
   ]
  },
  {
   "cell_type": "code",
   "execution_count": 11,
   "id": "c32955df",
   "metadata": {},
   "outputs": [
    {
     "name": "stdout",
     "output_type": "stream",
     "text": [
      "* \n",
      "* * \n",
      "* * * \n",
      "* * * * \n",
      "* * * * * \n",
      "* * * * * * \n",
      "* * * * * * * \n",
      " \n",
      "* * * * * * * \n",
      "* * * * * * \n",
      "* * * * * \n",
      "* * * * \n",
      "* * * \n",
      "* * \n",
      "* \n"
     ]
    }
   ],
   "source": [
    "for i in range(1,8):\n",
    "    print(\"* \"*i,end='\\n')\n",
    "print(\" \")\n",
    "for j in range(7,0,-1):\n",
    "    print(\"* \"*j,end='\\n')"
   ]
  },
  {
   "cell_type": "markdown",
   "id": "d55a2243",
   "metadata": {},
   "source": [
    "#### Q:12"
   ]
  },
  {
   "cell_type": "code",
   "execution_count": 12,
   "id": "04df2ca1",
   "metadata": {},
   "outputs": [
    {
     "name": "stdout",
     "output_type": "stream",
     "text": [
      "* \n",
      "* * \n",
      "* * * \n",
      "* * * * \n",
      "* * * * * \n",
      "* * * * * * \n",
      "* * * * * * * \n",
      "* * * * * * * \n",
      "* * * * * * \n",
      "* * * * * \n",
      "* * * * \n",
      "* * * \n",
      "* * \n",
      "* \n"
     ]
    }
   ],
   "source": [
    "for i in range(1,8):\n",
    "    print(\"* \"*i,end='\\n')\n",
    "for j in range(7,0,-1):\n",
    "    print(\"* \"*j,end='\\n')"
   ]
  },
  {
   "cell_type": "markdown",
   "id": "d20d4d74",
   "metadata": {},
   "source": [
    "#### Q:13"
   ]
  },
  {
   "cell_type": "code",
   "execution_count": 13,
   "id": "8d713527",
   "metadata": {},
   "outputs": [
    {
     "name": "stdout",
     "output_type": "stream",
     "text": [
      "        * \n",
      "      * * \n",
      "    * * * \n",
      "  * * * * \n",
      "* * * * * \n",
      "  * * * * \n",
      "    * * * \n",
      "      * * \n",
      "        * \n",
      "          \n"
     ]
    }
   ],
   "source": [
    "rows = 5\n",
    "i = 1\n",
    "while i <= rows:\n",
    "    j = i\n",
    "    while j < rows:\n",
    "        print(' ', end=' ')\n",
    "        j += 1\n",
    "    k = 1\n",
    "    while k <= i:\n",
    "        print('*', end=' ')\n",
    "        k += 1\n",
    "    print()\n",
    "    i += 1\n",
    "\n",
    "i = rows\n",
    "while i >= 1:\n",
    "    j = i\n",
    "    while j <= rows:\n",
    "        print(' ', end=' ')\n",
    "        j += 1\n",
    "    k = 1\n",
    "    while k < i:\n",
    "        print('*', end=' ')\n",
    "        k += 1\n",
    "    print('')\n",
    "    i -= 1"
   ]
  },
  {
   "cell_type": "markdown",
   "id": "7590d3eb",
   "metadata": {},
   "source": [
    "#### Q:14"
   ]
  },
  {
   "cell_type": "code",
   "execution_count": 14,
   "id": "087d4da6",
   "metadata": {},
   "outputs": [
    {
     "name": "stdout",
     "output_type": "stream",
     "text": [
      "* * * * * \n",
      " * * * * \n",
      "  * * * \n",
      "   * * \n",
      "    * \n",
      "    * \n",
      "   * * \n",
      "  * * * \n",
      " * * * * \n",
      "* * * * * \n"
     ]
    }
   ],
   "source": [
    "rows = 5\n",
    "i = 0\n",
    "while i <= rows - 1:\n",
    "    j = 0\n",
    "    while j < i:\n",
    "        # display space\n",
    "        print('', end=' ')\n",
    "        j += 1\n",
    "    k = i\n",
    "    while k <= rows - 1:\n",
    "        print('*', end=' ')\n",
    "        k += 1\n",
    "    print()\n",
    "    i += 1\n",
    "\n",
    "i = rows - 1\n",
    "while i >= 0:\n",
    "    j = 0\n",
    "    while j < i:\n",
    "        print('', end=' ')\n",
    "        j += 1\n",
    "    k = i\n",
    "    while k <= rows - 1:\n",
    "        print('*', end=' ')\n",
    "        k += 1\n",
    "    print('')\n",
    "    i -= 1\n"
   ]
  },
  {
   "cell_type": "markdown",
   "id": "d656f32c",
   "metadata": {},
   "source": [
    "#### Q:15"
   ]
  },
  {
   "cell_type": "code",
   "execution_count": 15,
   "id": "f7cdcea7",
   "metadata": {},
   "outputs": [
    {
     "name": "stdout",
     "output_type": "stream",
     "text": [
      "**************\n",
      "******__******\n",
      "*****____*****\n",
      "****______****\n",
      "***________***\n",
      "**__________**\n",
      "*____________*\n"
     ]
    }
   ],
   "source": [
    "rows = 14\n",
    "print(\"*\"*rows, end=\"\\n\")\n",
    "i = (rows // 2) - 1\n",
    "j = 2\n",
    "while i != 0:\n",
    "    while j <= (rows - 2):\n",
    "        print(\"*\" * i, end=\"\")\n",
    "        print(\"_\" * j, end=\"\")\n",
    "        print(\"*\" * i, end=\"\\n\")\n",
    "        i = i - 1\n",
    "        j = j + 2"
   ]
  },
  {
   "cell_type": "code",
   "execution_count": null,
   "id": "cbe25dd7",
   "metadata": {},
   "outputs": [],
   "source": []
  }
 ],
 "metadata": {
  "kernelspec": {
   "display_name": "Python 3",
   "language": "python",
   "name": "python3"
  },
  "language_info": {
   "codemirror_mode": {
    "name": "ipython",
    "version": 3
   },
   "file_extension": ".py",
   "mimetype": "text/x-python",
   "name": "python",
   "nbconvert_exporter": "python",
   "pygments_lexer": "ipython3",
   "version": "3.8.8"
  }
 },
 "nbformat": 4,
 "nbformat_minor": 5
}
